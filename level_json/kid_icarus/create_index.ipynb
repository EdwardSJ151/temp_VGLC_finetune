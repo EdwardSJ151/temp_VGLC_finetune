{
 "cells": [
  {
   "cell_type": "code",
   "execution_count": 2,
   "id": "9fc4657c",
   "metadata": {},
   "outputs": [],
   "source": [
    "import json\n",
    "\n",
    "with open('kid_icarus.json', 'r') as f:\n",
    "    level_prompts = json.load(f)\n",
    "\n",
    "for i, entry in enumerate(level_prompts):\n",
    "    entry['index'] = i\n",
    "\n",
    "with open('kid_icarus_indexed.json', 'w') as f:\n",
    "    json.dump(level_prompts, f, indent=4)"
   ]
  }
 ],
 "metadata": {
  "kernelspec": {
   "display_name": "unsloth",
   "language": "python",
   "name": "python3"
  },
  "language_info": {
   "codemirror_mode": {
    "name": "ipython",
    "version": 3
   },
   "file_extension": ".py",
   "mimetype": "text/x-python",
   "name": "python",
   "nbconvert_exporter": "python",
   "pygments_lexer": "ipython3",
   "version": "3.11.11"
  }
 },
 "nbformat": 4,
 "nbformat_minor": 5
}
